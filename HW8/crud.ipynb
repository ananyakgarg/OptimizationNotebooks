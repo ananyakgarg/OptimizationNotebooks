{
 "cells": [
  {
   "cell_type": "code",
   "execution_count": 10,
   "metadata": {},
   "outputs": [
    {
     "data": {
      "text/latex": [
       "$$ \\begin{aligned}\n",
       "\\min\\quad & 30 y_{1} + 40 y_{2} + 35 y_{3} + 45 y_{4} + 38 y_{5} + 50 y_{6}\\\\\n",
       "\\text{Subject to} \\quad & -x_{1} - y_{1} = -300.0\\\\\n",
       " & x_{1} - x_{2} - y_{2} = -240.0\\\\\n",
       " & x_{2} - x_{3} - y_{3} = -600.0\\\\\n",
       " & x_{3} - x_{4} - y_{4} = -200.0\\\\\n",
       " & x_{4} - x_{5} - y_{5} = -300.0\\\\\n",
       " & x_{5} - y_{6} = -600.0\\\\\n",
       " & x_{1} \\geq 0.0\\\\\n",
       " & x_{2} \\geq 0.0\\\\\n",
       " & x_{3} \\geq 0.0\\\\\n",
       " & x_{4} \\geq 0.0\\\\\n",
       " & x_{5} \\geq 0.0\\\\\n",
       " & x_{6} \\geq 0.0\\\\\n",
       " & y_{1} \\geq 0.0\\\\\n",
       " & y_{2} \\geq 0.0\\\\\n",
       " & y_{3} \\geq 0.0\\\\\n",
       " & y_{4} \\geq 0.0\\\\\n",
       " & y_{5} \\geq 0.0\\\\\n",
       " & y_{6} \\geq 0.0\\\\\n",
       " & x_{1} \\leq 1000.0\\\\\n",
       " & x_{2} \\leq 1000.0\\\\\n",
       " & x_{3} \\leq 1000.0\\\\\n",
       " & x_{4} \\leq 1000.0\\\\\n",
       " & x_{5} \\leq 1000.0\\\\\n",
       " & x_{6} \\leq 1000.0\\\\\n",
       " & y_{1} \\leq 650.0\\\\\n",
       " & y_{2} \\leq 650.0\\\\\n",
       " & y_{3} \\leq 650.0\\\\\n",
       " & y_{4} \\leq 650.0\\\\\n",
       " & y_{5} \\leq 650.0\\\\\n",
       " & y_{6} \\leq 650.0\\\\\n",
       "\\end{aligned} $$"
      ]
     },
     "metadata": {},
     "output_type": "display_data"
    }
   ],
   "source": [
    "using JuMP, HiGHS\n",
    "\n",
    "# recycling recyclingCost per hour\n",
    "\n",
    "recyclingCost = [30, 40, 35, 45, 38, 50]\n",
    "\n",
    "#Chemical X produceCostd at each hour\n",
    "produceCost = [300, 240, 600, 200, 300, 600]\n",
    "\n",
    "#Maximum Liters of Chemical X  kept by plant\n",
    "storage = 1000\n",
    "\n",
    "#Maximum Liters of chemical X that can be sent to Freshair\n",
    "transport = 650\n",
    "\n",
    "question3 = Model(HiGHS.Optimizer)\n",
    "\n",
    "# amount of chemical X currently held at CRUD at the end of the hour\n",
    "@variable(question3, 0 <= x[1:6] <= storage)\n",
    "\n",
    "#Amount of chemical X currently sent to FRESHAIR at the end of that hour \n",
    "@variable(question3, 0 <= y[1:6] <= transport)\n",
    "\n",
    "#Transportation at the end of the first hour with no chemical X \n",
    "@constraint(question3, flow1, produceCost[1]-y[1] == x[1])\n",
    "\n",
    "#Transportation of chemical X from the end of 1am to 2pm\n",
    "\n",
    "@constraint(question3, flow[i in 2:5], x[i-1]+produceCost[i] == y[i]+ x[i])\n",
    "\n",
    "#No Chemical X remaining at the end of the 3pm\n",
    "\n",
    "@constraint(question3, flow6, x[5]+produceCost[6]-y[6] == 0)\n",
    "\n",
    "#Minimize total recycling recyclingCosts\n",
    "@objective(question3, Min, sum((recyclingCost[i] * y[i] for i in 1:6)))\n",
    "\n",
    "print(question3)\n",
    "\n"
   ]
  },
  {
   "cell_type": "code",
   "execution_count": 12,
   "metadata": {},
   "outputs": [
    {
     "name": "stdout",
     "output_type": "stream",
     "text": [
      "Solving LP without presolve or with basis\n",
      "Model   status      : Optimal\n",
      "Objective value     :  8.8050000000e+04\n",
      "HiGHS run time      :          0.00\n",
      "[0.0, 200.0, 150.0, 350.0, 0.0, 0.0]\n",
      "[300.0, 40.0, 650.0, 0.0, 650.0, 600.0]\n",
      "88050.0\n"
     ]
    }
   ],
   "source": [
    "optimize!(question3)\n",
    "println(value.(x))\n",
    "println(value.(y))\n",
    "println(objective_value(question3))"
   ]
  }
 ],
 "metadata": {
  "kernelspec": {
   "display_name": "Julia 1.8.2",
   "language": "julia",
   "name": "julia-1.8"
  },
  "language_info": {
   "file_extension": ".jl",
   "mimetype": "application/julia",
   "name": "julia",
   "version": "1.8.2"
  },
  "orig_nbformat": 4
 },
 "nbformat": 4,
 "nbformat_minor": 2
}
