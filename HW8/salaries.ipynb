{
 "cells": [
  {
   "cell_type": "code",
   "execution_count": 1,
   "metadata": {},
   "outputs": [],
   "source": [
    "using JuMP, HiGHS"
   ]
  },
  {
   "cell_type": "code",
   "execution_count": 2,
   "metadata": {},
   "outputs": [],
   "source": [
    "IT = [:Tom, :Peter, :Nina, :Samir];\n",
    "CS = [:Gary, :Linda, :Bob];\n",
    "\n",
    "work = [:IT, :CS];"
   ]
  },
  {
   "cell_type": "code",
   "execution_count": 5,
   "metadata": {},
   "outputs": [
    {
     "data": {
      "text/latex": [
       "$$ \\begin{aligned}\n",
       "\\min\\quad & z_{IT} + z_{CS}\\\\\n",
       "\\text{Subject to} \\quad & x_{Tom} \\geq 30000.0\\\\\n",
       " & -x_{Tom} + x_{Peter} \\geq 8000.0\\\\\n",
       " & -x_{Tom} + x_{Nina} \\geq 8000.0\\\\\n",
       " & -x_{Tom} + x_{Samir} \\geq 8000.0\\\\\n",
       " & -x_{Tom} - x_{Peter} + y_{Gary} \\geq 0.0\\\\\n",
       " & -2 x_{Tom} - 2 x_{Peter} + x_{Nina} + x_{Samir} \\geq 0.0\\\\\n",
       " & -x_{Peter} + y_{Bob} \\geq 0.0\\\\\n",
       " & -x_{Samir} + y_{Bob} \\geq 0.0\\\\\n",
       " & x_{Peter} + y_{Bob} \\geq 75000.0\\\\\n",
       " & -y_{Gary} + y_{Linda} \\geq 500.0\\\\\n",
       " & -x_{Tom} + y_{Linda} - y_{Bob} \\leq 0.0\\\\\n",
       " & x_{Tom} - z_{IT} \\leq 0.0\\\\\n",
       " & x_{Peter} - z_{IT} \\leq 0.0\\\\\n",
       " & x_{Nina} - z_{IT} \\leq 0.0\\\\\n",
       " & x_{Samir} - z_{IT} \\leq 0.0\\\\\n",
       " & y_{Gary} - z_{CS} \\leq 0.0\\\\\n",
       " & y_{Linda} - z_{CS} \\leq 0.0\\\\\n",
       " & y_{Bob} - z_{CS} \\leq 0.0\\\\\n",
       " & x_{Tom} \\geq 0.0\\\\\n",
       " & x_{Peter} \\geq 0.0\\\\\n",
       " & x_{Nina} \\geq 0.0\\\\\n",
       " & x_{Samir} \\geq 0.0\\\\\n",
       " & y_{Gary} \\geq 0.0\\\\\n",
       " & y_{Linda} \\geq 0.0\\\\\n",
       " & y_{Bob} \\geq 0.0\\\\\n",
       " & z_{IT} \\geq 0.0\\\\\n",
       " & z_{CS} \\geq 0.0\\\\\n",
       "\\end{aligned} $$"
      ]
     },
     "metadata": {},
     "output_type": "display_data"
    }
   ],
   "source": [
    "q1 = Model(HiGHS.Optimizer);\n",
    "\n",
    "\n",
    "@variable(q1, x[IT] >= 0) # salary for each IT employee\n",
    "@variable(q1, y[CS] >= 0) # customer service group employee\n",
    "@variable(q1, z[work] >= 0) # each worker's salary\n",
    "\n",
    "\n",
    "@constraint(q1, constraint1, x[:Tom] >= 30000)\n",
    "@constraint(q1, constraint2, x[:Peter] >= x[:Tom] + 8000)\n",
    "@constraint(q1, constraint3, x[:Nina] >= x[:Tom] + 8000)\n",
    "@constraint(q1, constraint4, x[:Samir] >= x[:Tom] + 8000)\n",
    "@constraint(q1, constraint5, y[:Gary] >= x[:Tom] + x[:Peter])\n",
    "@constraint(q1, constraint6, x[:Samir] + x[:Nina] >= 2*(x[:Tom] + x[:Peter]))\n",
    "@constraint(q1, constraint7, y[:Bob] >= x[:Peter])\n",
    "@constraint(q1, constraint8, y[:Bob] >= x[:Samir])\n",
    "@constraint(q1, constraint9, y[:Bob] + x[:Peter] >= 75000)\n",
    "@constraint(q1, constraint10, y[:Linda] <= y[:Bob] + x[:Tom])\n",
    "@constraint(q1, constraint1l1, y[:Linda] >= y[:Gary] + 500)\n",
    "\n",
    "@constraint(q1, ITmax[i in IT], x[i] <= z[:IT])\n",
    "@constraint(q1, CSmax[i in CS], y[i] <= z[:CS])\n",
    "\n",
    "@objective(q1, Min, sum(z[i] for i in work))\n",
    "print(q1)"
   ]
  },
  {
   "cell_type": "code",
   "execution_count": 7,
   "metadata": {},
   "outputs": [
    {
     "name": "stdout",
     "output_type": "stream",
     "text": [
      "Solving LP without presolve or with basis\n",
      "Model   status      : Optimal\n",
      "Objective value     :  1.3650000000e+05\n",
      "HiGHS run time      :          0.01\n",
      "nothing1-dimensional DenseAxisArray{Float64,1,...} with index sets:\n",
      "    Dimension 1, [:Tom, :Peter, :Nina, :Samir]\n",
      "And data, a 4-element Vector{Float64}:\n",
      " 30000.0\n",
      " 38000.0\n",
      " 68000.0\n",
      " 68000.0\n",
      "1-dimensional DenseAxisArray{Float64,1,...} with index sets:\n",
      "    Dimension 1, [:Gary, :Linda, :Bob]\n",
      "And data, a 3-element Vector{Float64}:\n",
      " 68000.0\n",
      " 68500.0\n",
      " 68500.0\n",
      "1-dimensional DenseAxisArray{Float64,1,...} with index sets:\n",
      "    Dimension 1, [:IT, :CS]\n",
      "And data, a 2-element Vector{Float64}:\n",
      " 68000.0\n",
      " 68500.0\n",
      "136500.0\n"
     ]
    }
   ],
   "source": [
    "print(optimize!(q1))\n",
    "println(value.(x))\n",
    "println(value.(y))\n",
    "println(value.(z))\n",
    "println(objective_value(q1))"
   ]
  }
 ],
 "metadata": {
  "kernelspec": {
   "display_name": "Julia 1.8.2",
   "language": "julia",
   "name": "julia-1.8"
  },
  "language_info": {
   "file_extension": ".jl",
   "mimetype": "application/julia",
   "name": "julia",
   "version": "1.8.2"
  },
  "orig_nbformat": 4
 },
 "nbformat": 4,
 "nbformat_minor": 2
}
