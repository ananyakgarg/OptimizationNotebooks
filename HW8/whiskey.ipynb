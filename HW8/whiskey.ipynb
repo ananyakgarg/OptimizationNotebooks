{
 "cells": [
  {
   "cell_type": "code",
   "execution_count": 2,
   "metadata": {},
   "outputs": [],
   "source": [
    "using JuMP, HiGHS\n"
   ]
  },
  {
   "cell_type": "code",
   "execution_count": 17,
   "metadata": {},
   "outputs": [
    {
     "data": {
      "text/plain": [
       "Dict{Symbol, Int64} with 2 entries:\n",
       "  :Johnny   => 600\n",
       "  :Scottish => 1000"
      ]
     },
     "execution_count": 17,
     "metadata": {},
     "output_type": "execute_result"
    }
   ],
   "source": [
    "# whiskey types\n",
    "blended = [:Scottish, :Johnny]\n",
    "raw = [:Standard, :Choice, :Prime]\n",
    "\n",
    "#Sales price of 1 Liter of blended whiskeys\n",
    "sellAt = Dict(zip(blended, [6.80, 5.70]))\n",
    "\n",
    "#Price of 1 Liter of each raw whiskeys\n",
    "purchaseAt = Dict(zip(raw, [4, 5, 7]))\n",
    "\n",
    "#Amount available of each raw whiskey types\n",
    "amount = Dict(zip(raw, [1200, 2500, 2000]))\n",
    "\n",
    "#Demand of each blended whiskey type\n",
    "demand = Dict(zip(blended, [1000, 600]))"
   ]
  },
  {
   "cell_type": "code",
   "execution_count": 18,
   "metadata": {},
   "outputs": [
    {
     "data": {
      "text/latex": [
       "$$ \\begin{aligned}\n",
       "\\max\\quad & 2.8 x_{Standard,Scottish} + 1.7999999999999998 x_{Choice,Scottish} - 0.20000000000000018 x_{Prime,Scottish} + 1.7000000000000002 x_{Standard,Johnny} + 0.7000000000000002 x_{Choice,Johnny} - 1.2999999999999998 x_{Prime,Johnny} - y_{Scottish} - y_{Johnny}\\\\\n",
       "\\text{Subject to} \\quad & -0.6 x_{Standard,Scottish} - 0.6 x_{Choice,Scottish} + 0.4 x_{Prime,Scottish} \\geq 0.0\\\\\n",
       " & -0.15 x_{Standard,Johnny} - 0.15 x_{Choice,Johnny} + 0.85 x_{Prime,Johnny} \\geq 0.0\\\\\n",
       " & x_{Standard,Scottish} + x_{Standard,Johnny} \\leq 1200.0\\\\\n",
       " & x_{Choice,Scottish} + x_{Choice,Johnny} \\leq 2500.0\\\\\n",
       " & x_{Prime,Scottish} + x_{Prime,Johnny} \\leq 2000.0\\\\\n",
       " & x_{Standard,Scottish} + x_{Choice,Scottish} + x_{Prime,Scottish} - 1.25 y_{Scottish} \\leq 1000.0\\\\\n",
       " & x_{Standard,Johnny} + x_{Choice,Johnny} + x_{Prime,Johnny} - 1.25 y_{Johnny} \\leq 600.0\\\\\n",
       " & 0.8 x_{Standard,Scottish} - 0.2 x_{Choice,Scottish} - 0.2 x_{Prime,Scottish} \\leq 0.0\\\\\n",
       " & 0.4 x_{Standard,Johnny} - 0.6 x_{Choice,Johnny} - 0.6 x_{Prime,Johnny} \\leq 0.0\\\\\n",
       " & x_{Standard,Scottish} \\geq 0.0\\\\\n",
       " & x_{Choice,Scottish} \\geq 0.0\\\\\n",
       " & x_{Prime,Scottish} \\geq 0.0\\\\\n",
       " & x_{Standard,Johnny} \\geq 0.0\\\\\n",
       " & x_{Choice,Johnny} \\geq 0.0\\\\\n",
       " & x_{Prime,Johnny} \\geq 0.0\\\\\n",
       " & y_{Scottish} \\geq 0.0\\\\\n",
       " & y_{Johnny} \\geq 0.0\\\\\n",
       "\\end{aligned} $$"
      ]
     },
     "metadata": {},
     "output_type": "display_data"
    }
   ],
   "source": [
    "\n",
    "question2 = Model(HiGHS. Optimizer)\n",
    "\n",
    "# Amount of Liter raw whiskey type used in each blended whiskey\n",
    "@variable(question2, x[raw, blended] >= 0)\n",
    "\n",
    "#Amount of money put into advertising for each type of blended whiskey\n",
    "@variable(question2, y[blended] >= 0)\n",
    "\n",
    "#Maximum amount of raw whiskey types available\n",
    "\n",
    "@constraint(question2, amount[i in raw], sum(x[i,j] for j in blended) <= amount[i])\n",
    "\n",
    "#Meet demand obligations with advertising increasing\n",
    "\n",
    "@constraint(question2, demand[j in blended], sum(x[i,j] for i in raw) <= demand[j] + 1.25*y[j])\n",
    "#Scottish Club must have at least 60% prime raw whiskey\n",
    "\n",
    "@constraint(question2, SPLowerBound, x[:Prime,:Scottish] >= 0.6*sum(x[i,:Scottish] for i in raw))\n",
    "#Scottish Club must have at most 20% standard raw whiskey\n",
    "\n",
    "@constraint(question2, SSUpperBound, x[:Standard, :Scottish] <= 0.2*sum(x[i,:Scottish] for i in raw))\n",
    "#Johnny Gold must have at most 60% standard raw whiskey\n",
    "\n",
    "@constraint(question2, JSUpperBound, x[:Standard, :Johnny] <= 0.6*sum(x[i,:Johnny] for i in raw))\n",
    "#Johnny Gold must have at Least 15% standard prime whiskey\n",
    "\n",
    "@constraint(question2, JPUpperBound, x[:Prime,:Johnny] >= 0.15*sum(x[i,:Johnny] for i in raw))\n",
    "\n",
    "#Sales minust cost\n",
    "@objective(question2, Max, sum(sellAt[j]*sum(x[i,j] for i in raw) for j in blended) - sum(purchaseAt[i]*sum(x[i,j] for j in blended) for i in raw)- sum(y[j] for j in blended))\n",
    "\n",
    "print(question2)"
   ]
  },
  {
   "cell_type": "code",
   "execution_count": 23,
   "metadata": {},
   "outputs": [
    {
     "name": "stdout",
     "output_type": "stream",
     "text": [
      "Solving LP without presolve or with basis\n",
      "Model   status      : Optimal\n",
      "Objective value     :  1.6133333333e+03\n",
      "HiGHS run time      :          0.01\n",
      "2-dimensional DenseAxisArray{Float64,2,...} with index sets:\n",
      "    Dimension 1, [:Standard, :Choice, :Prime]\n",
      "    Dimension 2, [:Scottish, :Johnny]\n",
      "And data, a 3×2 Matrix{Float64}:\n",
      " 199.99999999999997  1000.0\n",
      " 200.00000000000006   416.66666666666674\n",
      " 600.0                250.01-dimensional DenseAxisArray{Float64,1,...} with index sets:\n",
      "    Dimension 1, [:Scottish, :Johnny]\n",
      "And data, a 2-element Vector{Float64}:\n",
      "   0.0\n",
      " 853.33333333333341613.3333333333335"
     ]
    }
   ],
   "source": [
    "optimize!(question2)\n",
    "print(value.(x)) # amount of blended whiskey\n",
    "print(value.(y)) # advertising money\n",
    "print(objective_value(question2)) # max profit"
   ]
  }
 ],
 "metadata": {
  "kernelspec": {
   "display_name": "Julia 1.8.2",
   "language": "julia",
   "name": "julia-1.8"
  },
  "language_info": {
   "file_extension": ".jl",
   "mimetype": "application/julia",
   "name": "julia",
   "version": "1.8.2"
  },
  "orig_nbformat": 4,
  "vscode": {
   "interpreter": {
    "hash": "aee8b7b246df8f9039afb4144a1f6fd8d2ca17a180786b69acc140d282b71a49"
   }
  }
 },
 "nbformat": 4,
 "nbformat_minor": 2
}
