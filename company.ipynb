{
 "cells": [
  {
   "cell_type": "code",
   "execution_count": 2,
   "metadata": {},
   "outputs": [
    {
     "data": {
      "text/plain": [
       "1×3 Matrix{Int64}:\n",
       " 70  75  65"
      ]
     },
     "execution_count": 2,
     "metadata": {},
     "output_type": "execute_result"
    }
   ],
   "source": [
    "using JuMP, HiGHS\n",
    "#warehouses\n",
    "numWarehouses = 3\n",
    "#customers\n",
    "numCustomers = 3\n",
    "\n",
    "#Cost of shipping 1 unit from warehouse to customer\n",
    "costs = [15 35 25;\n",
    "\n",
    "10 50 40;\n",
    "\n",
    "20 40 30]\n",
    "\n",
    "#Units each warehouse can provide\n",
    "supply = [30 30 30]\n",
    "\n",
    "#Units each customer need\n",
    "\n",
    "demand = [40 50 40]\n",
    "\n",
    "#Cst for each unit of unmet demand\n",
    "penalty = [70 75 65]"
   ]
  },
  {
   "cell_type": "code",
   "execution_count": 6,
   "metadata": {},
   "outputs": [
    {
     "data": {
      "text/latex": [
       "$$ \\begin{aligned}\n",
       "\\min\\quad & 15 x_{1,1} + 35 x_{1,2} + 25 x_{1,3} + 10 x_{2,1} + 50 x_{2,2} + 40 x_{2,3} + 20 x_{3,1} + 40 x_{3,2} + 30 x_{3,3} + 70 y_{1} + 75 y_{2} + 65 y_{3}\\\\\n",
       "\\text{Subject to} \\quad & x_{1,1} + x_{2,1} + x_{3,1} + y_{1} \\geq 40.0\\\\\n",
       " & x_{1,2} + x_{2,2} + x_{3,2} + y_{2} \\geq 50.0\\\\\n",
       " & x_{1,3} + x_{2,3} + x_{3,3} + y_{3} \\geq 40.0\\\\\n",
       " & x_{1,1} + x_{1,2} + x_{1,3} \\leq 30.0\\\\\n",
       " & x_{2,1} + x_{2,2} + x_{2,3} \\leq 30.0\\\\\n",
       " & x_{3,1} + x_{3,2} + x_{3,3} \\leq 30.0\\\\\n",
       " & x_{1,1} \\geq 0.0\\\\\n",
       " & x_{2,1} \\geq 0.0\\\\\n",
       " & x_{3,1} \\geq 0.0\\\\\n",
       " & x_{1,2} \\geq 0.0\\\\\n",
       " & x_{2,2} \\geq 0.0\\\\\n",
       " & x_{3,2} \\geq 0.0\\\\\n",
       " & x_{1,3} \\geq 0.0\\\\\n",
       " & x_{2,3} \\geq 0.0\\\\\n",
       " & x_{3,3} \\geq 0.0\\\\\n",
       " & y_{1} \\geq 0.0\\\\\n",
       " & y_{2} \\geq 0.0\\\\\n",
       " & y_{3} \\geq 0.0\\\\\n",
       "\\end{aligned} $$"
      ]
     },
     "metadata": {},
     "output_type": "display_data"
    }
   ],
   "source": [
    "\n",
    "model2= Model(HiGHS. Optimizer)\n",
    "\n",
    "#represents\n",
    "#the amount of units sent from warehouse i to customer j\n",
    "\n",
    "@variable(model2, x[1:numWarehouses,1:numCustomers] >= 0)\n",
    "\n",
    "#Units that fell short for each customer's demand\n",
    "\n",
    "@variable(model2, y[1:numCustomers] >= 0)\n",
    "\n",
    "# each i can provide at most supply[i] units\n",
    "@constraint(model2, supplyconstraint[i in 1:numWarehouses], sum(x[i,j] for j in 1:numCustomers) <= supply[i])\n",
    "\n",
    "# each j requires at Least demand[{[j] units, with unmet demand to balancing the transportation\n",
    "@constraint(model2, demandconstraint[j in 1:numCustomers], sum(x[i,j] for i in 1:numWarehouses) + y[j] >= demand[j])\n",
    "\n",
    "#Minimized Cost of sending from warehouse i to customer j is given by costs[{i,j] with the penalty costs\n",
    "@objective(model2, Min, sum(sum(costs[i,j]*x[i,j] for j in 1:numCustomers) for i in 1:numWarehouses) + sum(penalty[j]* y[j] for j in 1:numCustomers) )\n",
    "\n",
    "print(model2)\n"
   ]
  },
  {
   "cell_type": "code",
   "execution_count": 7,
   "metadata": {},
   "outputs": [
    {
     "name": "stdout",
     "output_type": "stream",
     "text": [
      "Presolving model\n",
      "6 rows, 12 cols, 21 nonzeros\n",
      "6 rows, 12 cols, 21 nonzeros\n",
      "Presolve : Reductions: rows 6(-0); columns 12(-0); elements 21(-0)\n",
      "Solving the presolved LP\n",
      "Using EKK dual simplex solver - serial\n",
      "  Iteration        Objective     Infeasibilities num(sum)\n",
      "          0     0.0000000000e+00 Pr: 3(130) 0s\n",
      "          9     4.9500000000e+03 Pr: 0(0) 0s\n",
      "Solving the original LP from the solution after postsolve\n",
      "Model   status      : Optimal\n",
      "Simplex   iterations: 9\n",
      "Objective value     :  4.9500000000e+03\n",
      "HiGHS run time      :          0.00\n"
     ]
    }
   ],
   "source": [
    "optimize!(model2)"
   ]
  },
  {
   "cell_type": "code",
   "execution_count": 8,
   "metadata": {},
   "outputs": [
    {
     "name": "stdout",
     "output_type": "stream",
     "text": [
      "[0.0 0.0 30.0; 30.0 0.0 0.0; 10.0 20.0 0.0]\n",
      "[0.0, 30.0, 10.0]\n",
      "4950.0\n"
     ]
    }
   ],
   "source": [
    "# units sent fro warehouse to customer\n",
    "println(value.(x))\n",
    "# units that fell short\n",
    "println(value.(y))\n",
    "\n",
    "# smallest cost\n",
    "println(objective_value(model2))"
   ]
  }
 ],
 "metadata": {
  "kernelspec": {
   "display_name": "Julia 1.8.2",
   "language": "julia",
   "name": "julia-1.8"
  },
  "language_info": {
   "file_extension": ".jl",
   "mimetype": "application/julia",
   "name": "julia",
   "version": "1.8.2"
  },
  "orig_nbformat": 4
 },
 "nbformat": 4,
 "nbformat_minor": 2
}
