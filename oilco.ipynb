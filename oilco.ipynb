{
 "cells": [
  {
   "cell_type": "code",
   "execution_count": 1,
   "metadata": {},
   "outputs": [
    {
     "data": {
      "text/plain": [
       "7×10 Matrix{Int64}:\n",
       "  1   1   0   0   0   0   0   0   1   0\n",
       "  0   0   1   1   0   0   0   0   0   1\n",
       " -1   0  -1   0   1   1   0   0   0   0\n",
       "  0  -1   0  -1   0   0   1   1   0   0\n",
       "  0   0   0   0  -1   0  -1   0   0   0\n",
       "  0   0   0   0   0  -1   0  -1   0   0\n",
       "  0   0   0   0   0   0   0   0  -1  -1"
      ]
     },
     "execution_count": 1,
     "metadata": {},
     "output_type": "execute_result"
    }
   ],
   "source": [
    "# incidence matrix A for fully connected network\n",
    "\n",
    "# edges go from oil fields (first two rows) to the refinery (row 3 and 4)\n",
    "# to customers in rows 5 and 6, adding row 7 for extra supply\n",
    "\n",
    "A = [\n",
    "1 1 0 0 0 0 0 0 1 0;\n",
    "0 0 1 1 0 0 0 0 0 1;\n",
    "-1 0 -1 0 1 1 0 0 0 0;\n",
    "0 -1 0 -1 0 0 1 1 0 0;\n",
    "0 0 0 0 -1 0 -1 0 0 0;\n",
    "0 0 0 0 0 -1 0 -1 0 0;\n",
    "0 0 0 0 0 0 0 0 -1 -1;\n",
    "]\n",
    "\n",
    "# supply, refinery, and demand \n",
    "\n",
    "b = [4 5 0 0 -3 -4 -2]\n",
    "nodes = size(A,1);\n",
    "edges = size(A,2);\n",
    "\n",
    "# Cost of shipping 100000 barrels of oil between cities\n",
    "cost = [300 110 420 100 1150 1250 1370 1430 0 0 ]\n",
    "\n",
    "A\n"
   ]
  },
  {
   "cell_type": "code",
   "execution_count": 2,
   "metadata": {},
   "outputs": [
    {
     "data": {
      "text/latex": [
       "$$ \\begin{aligned}\n",
       "\\min\\quad & 300 x_{1} + 110 x_{2} + 420 x_{3} + 100 x_{4} + 1150 x_{5} + 1250 x_{6} + 1370 x_{7} + 1430 x_{8}\\\\\n",
       "\\text{Subject to} \\quad & x_{1} + x_{2} + x_{9} = 4.0\\\\\n",
       " & x_{3} + x_{4} + x_{10} = 5.0\\\\\n",
       " & -x_{1} - x_{3} + x_{5} + x_{6} = 0.0\\\\\n",
       " & -x_{2} - x_{4} + x_{7} + x_{8} = 0.0\\\\\n",
       " & -x_{5} - x_{7} = -3.0\\\\\n",
       " & -x_{6} - x_{8} = -4.0\\\\\n",
       " & -x_{9} - x_{10} = -2.0\\\\\n",
       " & x_{1} \\geq 0.0\\\\\n",
       " & x_{2} \\geq 0.0\\\\\n",
       " & x_{3} \\geq 0.0\\\\\n",
       " & x_{4} \\geq 0.0\\\\\n",
       " & x_{5} \\geq 0.0\\\\\n",
       " & x_{6} \\geq 0.0\\\\\n",
       " & x_{7} \\geq 0.0\\\\\n",
       " & x_{8} \\geq 0.0\\\\\n",
       " & x_{9} \\geq 0.0\\\\\n",
       " & x_{10} \\geq 0.0\\\\\n",
       "\\end{aligned} $$"
      ]
     },
     "metadata": {},
     "output_type": "display_data"
    }
   ],
   "source": [
    "using JuMP, HiGHS\n",
    "\n",
    "# Edges in graph\n",
    "model3 = Model(HiGHS.Optimizer)\n",
    "\n",
    "# Conservation constraings\n",
    "@variable(model3, x[1:edges] >= 0)\n",
    "@constraint(model3, flow, A*x .== b')\n",
    "\n",
    "#Costs minimized\n",
    "@objective(model3, Min, (sum(cost[i]*x[i] for i in 1:edges)))\n",
    "\n",
    "print(model3)"
   ]
  },
  {
   "cell_type": "code",
   "execution_count": 3,
   "metadata": {},
   "outputs": [
    {
     "name": "stdout",
     "output_type": "stream",
     "text": [
      "Presolving model\n",
      "4 rows, 7 cols, 14 nonzeros\n",
      "3 rows, 7 cols, 11 nonzeros\n",
      "Presolve : Reductions: rows 3(-4); columns 7(-3); elements 11(-9)\n",
      "Solving the presolved LP\n",
      "Using EKK dual simplex solver - serial\n",
      "  Iteration        Objective     Infeasibilities num(sum)\n",
      "          0     8.4500000000e+03 Pr: 2(9) 0s\n",
      "          4     1.0470000000e+04 Pr: 0(0) 0s\n",
      "Solving the original LP from the solution after postsolve\n",
      "Model   status      : Optimal\n",
      "Simplex   iterations: 4\n",
      "Objective value     :  1.0470000000e+04\n",
      "HiGHS run time      :          0.00\n"
     ]
    }
   ],
   "source": [
    "optimize!(model3)\n",
    "\n"
   ]
  },
  {
   "cell_type": "code",
   "execution_count": 4,
   "metadata": {},
   "outputs": [
    {
     "name": "stdout",
     "output_type": "stream",
     "text": [
      "[3.0, 0.0, 0.0, 4.0, 3.0, 0.0, 0.0, 4.0, 1.0, 1.0]\n",
      "10470.0\n"
     ]
    }
   ],
   "source": [
    "println(value.(x))\n",
    "println(objective_value(model3))"
   ]
  }
 ],
 "metadata": {
  "kernelspec": {
   "display_name": "Julia 1.8.2",
   "language": "julia",
   "name": "julia-1.8"
  },
  "language_info": {
   "file_extension": ".jl",
   "mimetype": "application/julia",
   "name": "julia",
   "version": "1.8.2"
  },
  "orig_nbformat": 4
 },
 "nbformat": 4,
 "nbformat_minor": 2
}
