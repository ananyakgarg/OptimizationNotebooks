{
 "cells": [
  {
   "cell_type": "code",
   "execution_count": 2,
   "metadata": {},
   "outputs": [
    {
     "data": {
      "text/plain": [
       "π = 3.1415926535897..."
      ]
     },
     "execution_count": 2,
     "metadata": {},
     "output_type": "execute_result"
    }
   ],
   "source": [
    "carrots = [23 .1 .6 6]\n",
    "potatoes = [171 .2 3.7 30]\n",
    "bread = [65 0 2.2 13]\n",
    "cheese = [112 9.3 7 0]\n",
    "peanut_butter = [188 16 7.7 2]\n",
    "\n",
    "#Types of picture frames produced\n",
    "types = [:carrots, :potatoes, :bread, :cheese, :peanut_butter]\n",
    "\n",
    "price = Dict(:carrots => .14, :potatoes => .12, :bread => .2, :cheese => .75, :peanut_butter => .15)\n",
    "\n",
    "calories = Dict(:carrots => 23, :potatoes => 171, :bread => 65, :cheese => 112, :peanut_butter => 188)\n",
    "\n",
    "fat = Dict(:carrots => .1, :potatoes => .2, :bread => 0, :cheese => 9.3, :peanut_butter => 16)\n",
    "\n",
    "protein = Dict(:carrots => .6, :potatoes => 3.7, :bread => 2.2, :cheese => 7, :peanut_butter => 7.7)\n",
    "\n",
    "carbs = Dict(:carrots => 6, :potatoes => 30, :bread => 13, :cheese => 0, :peanut_butter => 2)\n",
    "\n",
    "calories_min = 2000\n",
    "fat_min = 50\n",
    "protein_min = 100\n",
    "min_carbs = 250\n",
    "\n",
    "locations = [(0, 4), (1, 5), (2,3), (2,1), (3,6), (4,5), (4,1), (5,2), (6,5), (7,4)];\n",
    "c = [1; 2; 1.2; 2.5; 2.1; 1.1; 1.8; 1.4; 1.35; 1.82]\n",
    "pi\n"
   ]
  },
  {
   "cell_type": "code",
   "execution_count": null,
   "metadata": {},
   "outputs": [],
   "source": [
    "using JuMP\n",
    "#Import HiGHS solver\n",
    "using Ipopt\n",
    "\n",
    "#Create a JuMP model named picframe1 that will be solved using the HiGHS solver\n",
    "diet = Model(Ipopt.Optimizer);\n",
    "\n",
    "#Add the variables frame[:type_1] and frame[:type_2] that are nonnegative\n",
    "@variable(diet, 5 >= x >= 3);\n",
    "@variable(diet, 5 >= y >= 3);\n",
    "@variable(diet, 5 >= r[1:10] >= .02);\n",
    "\n",
    "@NLconstraint(diet, stations[i in 1:10], sqrt((x-locations[i][1])^2 + (y-locations[i][2])^2) <= r[i]);\n",
    "\n",
    "#Create the constraints, name them constraint1 and constraint2\n",
    "@objective(diet, Min, sum(c[i] * r[i]^2*pi  for i in 1:10));\n",
    "\n",
    "print(diet)\n"
   ]
  }
 ],
 "metadata": {
  "kernelspec": {
   "display_name": "Julia 1.8.2",
   "language": "julia",
   "name": "julia-1.8"
  },
  "language_info": {
   "file_extension": ".jl",
   "mimetype": "application/julia",
   "name": "julia",
   "version": "1.8.2"
  },
  "orig_nbformat": 4
 },
 "nbformat": 4,
 "nbformat_minor": 2
}
