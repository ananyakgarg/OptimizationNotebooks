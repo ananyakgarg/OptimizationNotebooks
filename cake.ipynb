{
 "cells": [
  {
   "cell_type": "code",
   "execution_count": 1,
   "metadata": {},
   "outputs": [
    {
     "data": {
      "text/plain": [
       "65"
      ]
     },
     "execution_count": 1,
     "metadata": {},
     "output_type": "execute_result"
    }
   ],
   "source": [
    "using JuMP, HiGHS\n",
    "#Cake types and months\n",
    "cakes = [:cheesecake, :blackforest]\n",
    "months = 1:3\n",
    "\n",
    "using NamedArrays\n",
    "\n",
    "#Demand for each type of cake\n",
    "demand = [40 30 20; 20 30 10]\n",
    "d= NamedArray(demand, (cakes, months), (\"cakes\", \"month\"))\n",
    "\n",
    "\n",
    "# Cost for each type of cake\n",
    "cost = [3.00 3.40 3.80; 2.50 2.80 3.40]\n",
    "c = NamedArray(cost, (cakes, months), (\"cakes\", \"month\"))\n",
    "\n",
    "\n",
    "#Costs for each type of cake\n",
    "holdcost = Dict(zip(cakes,[0.5, 0.4]))\n",
    "\n",
    "#Max cakes that can be produced each month\n",
    "maxproduce = 65"
   ]
  },
  {
   "cell_type": "code",
   "execution_count": 6,
   "metadata": {},
   "outputs": [
    {
     "data": {
      "text/latex": [
       "$$ \\begin{aligned}\n",
       "\\min\\quad & 3 x_{cheesecake,1} + 3.4 x_{cheesecake,2} + 3.8 x_{cheesecake,3} + 2.5 x_{blackforest,1} + 2.8 x_{blackforest,2} + 3.4 x_{blackforest,3} + 0.5 y_{cheesecake,1} + 0.5 y_{cheesecake,2} + 0.5 y_{cheesecake,3} + 0.4 y_{blackforest,1} + 0.4 y_{blackforest,2} + 0.4 y_{blackforest,3}\\\\\n",
       "\\text{Subject to} \\quad & x_{cheesecake,1} - y_{cheesecake,1} = 40.0\\\\\n",
       " & x_{blackforest,1} - y_{blackforest,1} = 20.0\\\\\n",
       " & x_{cheesecake,2} + y_{cheesecake,1} - y_{cheesecake,2} = 30.0\\\\\n",
       " & x_{blackforest,2} + y_{blackforest,1} - y_{blackforest,2} = 30.0\\\\\n",
       " & x_{cheesecake,3} + y_{cheesecake,2} - y_{cheesecake,3} = 20.0\\\\\n",
       " & x_{blackforest,3} + y_{blackforest,2} - y_{blackforest,3} = 10.0\\\\\n",
       " & x_{cheesecake,1} + x_{blackforest,1} \\leq 65.0\\\\\n",
       " & x_{cheesecake,2} + x_{blackforest,2} \\leq 65.0\\\\\n",
       " & x_{cheesecake,3} + x_{blackforest,3} \\leq 65.0\\\\\n",
       " & x_{cheesecake,1} \\geq 0.0\\\\\n",
       " & x_{blackforest,1} \\geq 0.0\\\\\n",
       " & x_{cheesecake,2} \\geq 0.0\\\\\n",
       " & x_{blackforest,2} \\geq 0.0\\\\\n",
       " & x_{cheesecake,3} \\geq 0.0\\\\\n",
       " & x_{blackforest,3} \\geq 0.0\\\\\n",
       " & y_{cheesecake,1} \\geq 0.0\\\\\n",
       " & y_{blackforest,1} \\geq 0.0\\\\\n",
       " & y_{cheesecake,2} \\geq 0.0\\\\\n",
       " & y_{blackforest,2} \\geq 0.0\\\\\n",
       " & y_{cheesecake,3} \\geq 0.0\\\\\n",
       " & y_{blackforest,3} \\geq 0.0\\\\\n",
       "\\end{aligned} $$"
      ]
     },
     "metadata": {},
     "output_type": "display_data"
    }
   ],
   "source": [
    "mod1 = Model(HiGHS.Optimizer)\n",
    "\n",
    "@variable(mod1, x[cakes, months] >= 0)\n",
    "@variable(mod1, y[cakes, months] >= 0)\n",
    "\n",
    "@constraint(mod1, maxcake[j in months], sum(x[i,j] for i in cakes) <= maxproduce)\n",
    "\n",
    "\n",
    "@constraint(mod1, month[i in  cakes], x[i,1] - d[i,1] == y[i,1])\n",
    "\n",
    "@constraint(mod1, flow[i in cakes, j in 2:3], y[i, j - 1]+ x[i,j] - d[i,j] == y[i,j])\n",
    "\n",
    "\n",
    "@objective(mod1, Min, sum(sum(c[i,j] * x[i,j] for j in months) for i in cakes) + sum(sum(holdcost[i] * y[i,j] for j in months) for i in cakes))\n",
    "print(mod1)"
   ]
  },
  {
   "cell_type": "code",
   "execution_count": 8,
   "metadata": {},
   "outputs": [
    {
     "name": "stdout",
     "output_type": "stream",
     "text": [
      "Presolving model\n",
      "7 rows, 10 cols, 18 nonzeros\n",
      "7 rows, 10 cols, 18 nonzeros\n",
      "Presolve : Reductions: rows 7(-2); columns 10(-2); elements 18(-4)\n",
      "Solving the presolved LP\n",
      "Using EKK dual simplex solver - serial\n",
      "  Iteration        Objective     Infeasibilities num(sum)\n",
      "          0     1.7000000000e+02 Pr: 4(90) 0s\n",
      "          5     4.6450000000e+02 Pr: 0(0) 0s\n",
      "Solving the original LP from the solution after postsolve\n",
      "Model   status      : Optimal\n",
      "Simplex   iterations: 5\n",
      "Objective value     :  4.6450000000e+02\n",
      "HiGHS run time      :          0.02\n"
     ]
    }
   ],
   "source": [
    "optimize!(mod1)"
   ]
  },
  {
   "cell_type": "code",
   "execution_count": 9,
   "metadata": {},
   "outputs": [
    {
     "name": "stdout",
     "output_type": "stream",
     "text": [
      "2-dimensional DenseAxisArray{Float64,2,...} with index sets:\n",
      "    Dimension 1, [:cheesecake, :blackforest]\n",
      "    Dimension 2, 1:3\n",
      "And data, a 2×3 Matrix{Float64}:\n",
      " 45.0  25.0  20.0\n",
      " 20.0  40.0   0.0\n",
      "2-dimensional DenseAxisArray{Float64,2,...} with index sets:\n",
      "    Dimension 1, [:cheesecake, :blackforest]\n",
      "    Dimension 2, 1:3\n",
      "And data, a 2×3 Matrix{Float64}:\n",
      " 5.0   0.0  0.0\n",
      " 0.0  10.0  0.0\n",
      "464.5\n"
     ]
    }
   ],
   "source": [
    "# cakes per month\n",
    "println(value.(x))\n",
    "\n",
    "# cakes in inventory\n",
    "println(value.(y))\n",
    "\n",
    "# min cost\n",
    "\n",
    "println(objective_value(mod1))\n"
   ]
  },
  {
   "cell_type": "code",
   "execution_count": 10,
   "metadata": {},
   "outputs": [
    {
     "data": {
      "text/plain": [
       "1×3 Matrix{Int64}:\n",
       " 70  75  65"
      ]
     },
     "execution_count": 10,
     "metadata": {},
     "output_type": "execute_result"
    }
   ],
   "source": []
  },
  {
   "cell_type": "code",
   "execution_count": null,
   "metadata": {},
   "outputs": [],
   "source": [
    "#warehouses\n",
    "numWarehouses = 3\n",
    "#customers\n",
    "numCustomers = 3\n",
    "\n",
    "#Cost of shipping 1 unit from warehouse to customer\n",
    "costs = [15 35 25;\n",
    "\n",
    "10 50 40;\n",
    "\n",
    "20 40 30]\n",
    "\n",
    "#Units each warehouse can provide\n",
    "supply = [30 30 30]\n",
    "\n",
    "#Units each customer need\n",
    "\n",
    "demand = [40 50 40]\n",
    "\n",
    "#Cst for each unit of unmet demand\n",
    "penalty = [70 75 65]"
   ]
  }
 ],
 "metadata": {
  "kernelspec": {
   "display_name": "Julia 1.8.2",
   "language": "julia",
   "name": "julia-1.8"
  },
  "language_info": {
   "file_extension": ".jl",
   "mimetype": "application/julia",
   "name": "julia",
   "version": "1.8.2"
  },
  "orig_nbformat": 4
 },
 "nbformat": 4,
 "nbformat_minor": 2
}
