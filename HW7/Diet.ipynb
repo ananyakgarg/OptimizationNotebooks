{
 "cells": [
  {
   "cell_type": "code",
   "execution_count": 1,
   "metadata": {},
   "outputs": [
    {
     "name": "stderr",
     "output_type": "stream",
     "text": [
      "\u001b[32m\u001b[1m    Updating\u001b[22m\u001b[39m registry at `~/.julia/registries/General.toml`\n",
      "\u001b[32m\u001b[1m   Resolving\u001b[22m\u001b[39m package versions...\n",
      "\u001b[32m\u001b[1m  No Changes\u001b[22m\u001b[39m to `~/.julia/environments/v1.8/Project.toml`\n",
      "\u001b[32m\u001b[1m  No Changes\u001b[22m\u001b[39m to `~/.julia/environments/v1.8/Manifest.toml`\n",
      "\u001b[32m\u001b[1m   Resolving\u001b[22m\u001b[39m package versions...\n",
      "\u001b[32m\u001b[1m  No Changes\u001b[22m\u001b[39m to `~/.julia/environments/v1.8/Project.toml`\n",
      "\u001b[32m\u001b[1m  No Changes\u001b[22m\u001b[39m to `~/.julia/environments/v1.8/Manifest.toml`\n"
     ]
    }
   ],
   "source": [
    "import Pkg\n",
    "Pkg.add(\"JuMP\")\n",
    "Pkg.add(\"HiGHS\")\n",
    "using(HiGHS)\n",
    "using(JuMP)"
   ]
  },
  {
   "cell_type": "code",
   "execution_count": 11,
   "metadata": {},
   "outputs": [
    {
     "data": {
      "text/plain": [
       "A JuMP Model\n",
       "Feasibility problem with:\n",
       "Variables: 0\n",
       "Model mode: AUTOMATIC\n",
       "CachingOptimizer state: EMPTY_OPTIMIZER\n",
       "Solver name: HiGHS"
      ]
     },
     "execution_count": 11,
     "metadata": {},
     "output_type": "execute_result"
    }
   ],
   "source": [
    "model_food = Model(HiGHS.Optimizer)"
   ]
  },
  {
   "cell_type": "code",
   "execution_count": 12,
   "metadata": {},
   "outputs": [],
   "source": [
    "@variable(model_food, carrots >= 0);\n",
    "@variable(model_food, potatoes >= 0);\n",
    "@variable(model_food, bread >= 0);\n",
    "@variable(model_food, cheese >= 0);\n",
    "@variable(model_food, peanut_butter >= 0);\n",
    "\n",
    "\n",
    "@constraint(model_food, calories, 23carrots + 171potatoes + 65bread + 112cheese + 188peanut_butter >= 2000); # caloric constraints\n",
    "@constraint(model_food, fat, .1carrots + .2potatoes + 9.3cheese + 16peanut_butter >= 50); # fat constraints\n",
    "@constraint(model_food, protein, .6carrots + 3.7potatoes + 2.2bread + 7cheese + 7.7peanut_butter >= 100);  # protein constraints\n",
    "@constraint(model_food, carbohydrates, 6carrots + 30potatoes + 13bread + 2peanut_butter >= 250); # carb constraints"
   ]
  },
  {
   "cell_type": "code",
   "execution_count": 13,
   "metadata": {},
   "outputs": [
    {
     "data": {
      "text/latex": [
       "$$ \\begin{aligned}\n",
       "\\min\\quad & 0.14 carrots + 0.2 bread + 0.12 potatoes + 0.75 cheese + 0.15 peanut\\_butter\\\\\n",
       "\\text{Subject to} \\quad & 23 carrots + 171 potatoes + 65 bread + 112 cheese + 188 peanut\\_butter \\geq 2000.0\\\\\n",
       " & 0.1 carrots + 0.2 potatoes + 9.3 cheese + 16 peanut\\_butter \\geq 50.0\\\\\n",
       " & 0.6 carrots + 3.7 potatoes + 2.2 bread + 7 cheese + 7.7 peanut\\_butter \\geq 100.0\\\\\n",
       " & 6 carrots + 30 potatoes + 13 bread + 2 peanut\\_butter \\geq 250.0\\\\\n",
       " & carrots \\geq 0.0\\\\\n",
       " & potatoes \\geq 0.0\\\\\n",
       " & bread \\geq 0.0\\\\\n",
       " & cheese \\geq 0.0\\\\\n",
       " & peanut\\_butter \\geq 0.0\\\\\n",
       "\\end{aligned} $$"
      ]
     },
     "metadata": {},
     "output_type": "display_data"
    }
   ],
   "source": [
    "@objective(model_food, Min, .14carrots + .2bread + .12potatoes + .75cheese + .15peanut_butter)\n",
    "print(model_food)"
   ]
  },
  {
   "cell_type": "code",
   "execution_count": 19,
   "metadata": {},
   "outputs": [
    {
     "name": "stdout",
     "output_type": "stream",
     "text": [
      "Solving LP without presolve or with basis\n",
      "Model   status      : Optimal\n",
      "Objective value     :  2.3177549195e+00\n",
      "HiGHS run time      :          0.00\n",
      "solution_summary(model_food) = * Solver : HiGHS\n",
      "\n",
      "* Status\n",
      "  Termination status : OPTIMAL\n",
      "  Primal status      : FEASIBLE_POINT\n",
      "  Dual status        : FEASIBLE_POINT\n",
      "  Message from the solver:\n",
      "  \"kHighsModelStatusOptimal\"\n",
      "\n",
      "* Candidate solution\n",
      "  Objective value      : 2.31775e+00\n",
      "  Objective bound      : 0.00000e+00\n",
      "  Relative gap         : Inf\n",
      "  Dual objective value : 2.31775e+00\n",
      "\n",
      "* Work counters\n",
      "  Solve time (sec)   : 2.08730e-03\n",
      "  Simplex iterations : 0\n",
      "  Barrier iterations : 0\n",
      "  Node count         : -1\n",
      "\n",
      "objective_value(model_food) = 2.3177549194991056\n"
     ]
    },
    {
     "data": {
      "text/plain": [
       "2.3177549194991056"
      ]
     },
     "execution_count": 19,
     "metadata": {},
     "output_type": "execute_result"
    }
   ],
   "source": [
    "optimize!(model_food);\n",
    "@show solution_summary(model_food);\n",
    "\n",
    "@show objective_value(model_food)\n"
   ]
  }
 ],
 "metadata": {
  "kernelspec": {
   "display_name": "Julia 1.8.2",
   "language": "julia",
   "name": "julia-1.8"
  },
  "language_info": {
   "file_extension": ".jl",
   "mimetype": "application/julia",
   "name": "julia",
   "version": "1.8.2"
  },
  "orig_nbformat": 4,
  "vscode": {
   "interpreter": {
    "hash": "aee8b7b246df8f9039afb4144a1f6fd8d2ca17a180786b69acc140d282b71a49"
   }
  }
 },
 "nbformat": 4,
 "nbformat_minor": 2
}
