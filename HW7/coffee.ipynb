{
 "cells": [
  {
   "cell_type": "code",
   "execution_count": 1,
   "metadata": {},
   "outputs": [
    {
     "name": "stderr",
     "output_type": "stream",
     "text": [
      "\u001b[32m\u001b[1m    Updating\u001b[22m\u001b[39m registry at `~/.julia/registries/General.toml`\n",
      "\u001b[32m\u001b[1m   Resolving\u001b[22m\u001b[39m package versions...\n",
      "\u001b[32m\u001b[1m  No Changes\u001b[22m\u001b[39m to `~/.julia/environments/v1.8/Project.toml`\n",
      "\u001b[32m\u001b[1m  No Changes\u001b[22m\u001b[39m to `~/.julia/environments/v1.8/Manifest.toml`\n",
      "\u001b[32m\u001b[1m   Resolving\u001b[22m\u001b[39m package versions...\n",
      "\u001b[32m\u001b[1m  No Changes\u001b[22m\u001b[39m to `~/.julia/environments/v1.8/Project.toml`\n",
      "\u001b[32m\u001b[1m  No Changes\u001b[22m\u001b[39m to `~/.julia/environments/v1.8/Manifest.toml`\n"
     ]
    }
   ],
   "source": [
    "# JuMP and HiGHS for building and solving optimization\n",
    "import Pkg\n",
    "Pkg.add(\"JuMP\")\n",
    "Pkg.add(\"HiGHS\")\n",
    "using(HiGHS)\n",
    "using(JuMP)"
   ]
  },
  {
   "cell_type": "code",
   "execution_count": 2,
   "metadata": {},
   "outputs": [
    {
     "data": {
      "text/plain": [
       "2-element Vector{Symbol}:\n",
       " :Robust\n",
       " :Light"
      ]
     },
     "execution_count": 2,
     "metadata": {},
     "output_type": "execute_result"
    }
   ],
   "source": [
    "# Coffee bean and blend vectors\n",
    "types = [:Columbian, :Brazilian, :Sumatran] \n",
    "blends = [:Robust, :Light]"
   ]
  },
  {
   "cell_type": "code",
   "execution_count": 5,
   "metadata": {},
   "outputs": [
    {
     "data": {
      "text/plain": [
       "Dict{Symbol, Float64} with 2 entries:\n",
       "  :Robust => 4.25\n",
       "  :Light  => 3.95"
      ]
     },
     "execution_count": 5,
     "metadata": {},
     "output_type": "execute_result"
    }
   ],
   "source": [
    "#Zipped dictionaries\n",
    "quantities = Dict(zip(types, [550, 450, 650]))\n",
    "beanCost = Dict(zip(types, [1, 0.85, 1.55]))\n",
    "blendCost = Dict(zip(blends, [4.25, 3.95]))\n",
    "\n"
   ]
  },
  {
   "cell_type": "code",
   "execution_count": 6,
   "metadata": {},
   "outputs": [],
   "source": [
    "#Model\n",
    "\n",
    "coffeeModel = Model(HiGHS.Optimizer);\n",
    "\n",
    "# Define Vars\n",
    "@variable(coffeeModel, x[types,blends]>=0);\n"
   ]
  },
  {
   "cell_type": "code",
   "execution_count": 7,
   "metadata": {},
   "outputs": [
    {
     "data": {
      "text/latex": [
       "rcl : $ 0.9 x_{Columbian,Robust} - 0.1 x_{Brazilian,Robust} - 0.1 x_{Sumatran,Robust} \\geq 0.0 $"
      ],
      "text/plain": [
       "rcl : 0.9 x[Columbian,Robust] - 0.1 x[Brazilian,Robust] - 0.1 x[Sumatran,Robust] ≥ 0.0"
      ]
     },
     "execution_count": 7,
     "metadata": {},
     "output_type": "execute_result"
    }
   ],
   "source": [
    "# constraints for robust blend\n",
    "@constraint(coffeeModel, rsl, x[:Sumatran,:Robust] >= 0.6*sum(x[i,:Robust] for i in types))\n",
    "@constraint(coffeeModel, rsu, x[:Sumatran,:Robust] <= 0.75*sum(x[i,:Robust] for i in types))\n",
    "@constraint(coffeeModel, rcl, x[:Columbian,:Robust] >= 0.1*sum(x[i,:Robust] for i in types))"
   ]
  },
  {
   "cell_type": "code",
   "execution_count": 9,
   "metadata": {},
   "outputs": [
    {
     "data": {
      "text/latex": [
       "lsl : $ -0.2 x_{Columbian,Light} - 0.2 x_{Brazilian,Light} + 0.8 x_{Sumatran,Light} \\leq 0.0 $"
      ],
      "text/plain": [
       "lsl : -0.2 x[Columbian,Light] - 0.2 x[Brazilian,Light] + 0.8 x[Sumatran,Light] ≤ 0.0"
      ]
     },
     "execution_count": 9,
     "metadata": {},
     "output_type": "execute_result"
    }
   ],
   "source": [
    "# constraints for light blend\n",
    "@constraint(coffeeModel, lbl, x[:Brazilian,:Light] >= 0.5*sum(x[i,:Light] for i in types))\n",
    "@constraint(coffeeModel, lbu, x[:Brazilian,:Light] <= 0.6*sum(x[i,:Light] for i in types))\n",
    "@constraint(coffeeModel, lsl, x[:Sumatran,:Light] <= 0.2*sum(x[i,:Light] for i in types))"
   ]
  },
  {
   "cell_type": "code",
   "execution_count": 10,
   "metadata": {},
   "outputs": [
    {
     "data": {
      "text/latex": [
       "SQuant : $ x_{Sumatran,Robust} + x_{Sumatran,Light} \\leq 650.0 $"
      ],
      "text/plain": [
       "SQuant : x[Sumatran,Robust] + x[Sumatran,Light] ≤ 650.0"
      ]
     },
     "execution_count": 10,
     "metadata": {},
     "output_type": "execute_result"
    }
   ],
   "source": [
    "#constraints for quantities\n",
    "@constraint(coffeeModel, CQuant, sum(x[:Columbian,i] for i in blends) <= 550)\n",
    "@constraint(coffeeModel, BQuant, sum(x[:Brazilian,i] for i in blends) <= 450)\n",
    "@constraint(coffeeModel, SQuant, sum(x[:Sumatran,i] for i in blends) <= 650)"
   ]
  },
  {
   "cell_type": "code",
   "execution_count": 11,
   "metadata": {},
   "outputs": [
    {
     "data": {
      "text/latex": [
       "$$ 3.25 x_{Columbian,Robust} + 2.95 x_{Columbian,Light} + 3.4 x_{Brazilian,Robust} + 3.1 x_{Brazilian,Light} + 2.7 x_{Sumatran,Robust} + 2.4000000000000004 x_{Sumatran,Light} $$"
      ],
      "text/plain": [
       "3.25 x[Columbian,Robust] + 2.95 x[Columbian,Light] + 3.4 x[Brazilian,Robust] + 3.1 x[Brazilian,Light] + 2.7 x[Sumatran,Robust] + 2.4000000000000004 x[Sumatran,Light]"
      ]
     },
     "execution_count": 11,
     "metadata": {},
     "output_type": "execute_result"
    }
   ],
   "source": [
    "# Expression for objective\n",
    "@expression(coffeeModel, objective, sum((-beanCost[i] + blendCost[j])*x[i,j] for i in types for j in blends))"
   ]
  },
  {
   "cell_type": "code",
   "execution_count": 12,
   "metadata": {},
   "outputs": [
    {
     "data": {
      "text/latex": [
       "$$ 3.25 x_{Columbian,Robust} + 2.95 x_{Columbian,Light} + 3.4 x_{Brazilian,Robust} + 3.1 x_{Brazilian,Light} + 2.7 x_{Sumatran,Robust} + 2.4000000000000004 x_{Sumatran,Light} $$"
      ],
      "text/plain": [
       "3.25 x[Columbian,Robust] + 2.95 x[Columbian,Light] + 3.4 x[Brazilian,Robust] + 3.1 x[Brazilian,Light] + 2.7 x[Sumatran,Robust] + 2.4000000000000004 x[Sumatran,Light]"
      ]
     },
     "execution_count": 12,
     "metadata": {},
     "output_type": "execute_result"
    }
   ],
   "source": [
    "#lets maximize!\n",
    "\n",
    "@objective(coffeeModel, Max, objective)"
   ]
  },
  {
   "cell_type": "code",
   "execution_count": 14,
   "metadata": {},
   "outputs": [
    {
     "data": {
      "text/latex": [
       "$$ \\begin{aligned}\n",
       "\\max\\quad & 3.25 x_{Columbian,Robust} + 2.95 x_{Columbian,Light} + 3.4 x_{Brazilian,Robust} + 3.1 x_{Brazilian,Light} + 2.7 x_{Sumatran,Robust} + 2.4000000000000004 x_{Sumatran,Light}\\\\\n",
       "\\text{Subject to} \\quad & -0.6 x_{Columbian,Robust} - 0.6 x_{Brazilian,Robust} + 0.4 x_{Sumatran,Robust} \\geq 0.0\\\\\n",
       " & 0.9 x_{Columbian,Robust} - 0.1 x_{Brazilian,Robust} - 0.1 x_{Sumatran,Robust} \\geq 0.0\\\\\n",
       " & -0.5 x_{Columbian,Light} + 0.5 x_{Brazilian,Light} - 0.5 x_{Sumatran,Light} \\geq 0.0\\\\\n",
       " & -0.75 x_{Columbian,Robust} - 0.75 x_{Brazilian,Robust} + 0.25 x_{Sumatran,Robust} \\leq 0.0\\\\\n",
       " & -0.6 x_{Columbian,Light} + 0.4 x_{Brazilian,Light} - 0.6 x_{Sumatran,Light} \\leq 0.0\\\\\n",
       " & -0.2 x_{Columbian,Light} - 0.2 x_{Brazilian,Light} + 0.8 x_{Sumatran,Light} \\leq 0.0\\\\\n",
       " & x_{Columbian,Robust} + x_{Columbian,Light} \\leq 550.0\\\\\n",
       " & x_{Brazilian,Robust} + x_{Brazilian,Light} \\leq 450.0\\\\\n",
       " & x_{Sumatran,Robust} + x_{Sumatran,Light} \\leq 650.0\\\\\n",
       " & x_{Columbian,Robust} \\geq 0.0\\\\\n",
       " & x_{Brazilian,Robust} \\geq 0.0\\\\\n",
       " & x_{Sumatran,Robust} \\geq 0.0\\\\\n",
       " & x_{Columbian,Light} \\geq 0.0\\\\\n",
       " & x_{Brazilian,Light} \\geq 0.0\\\\\n",
       " & x_{Sumatran,Light} \\geq 0.0\\\\\n",
       "\\end{aligned} $$"
      ]
     },
     "metadata": {},
     "output_type": "display_data"
    },
    {
     "name": "stdout",
     "output_type": "stream",
     "text": [
      "Solving LP without presolve or with basis\n",
      "Model   status      : Optimal\n",
      "Objective value     :  4.9025000000e+03\n",
      "HiGHS run time      :          0.00\n",
      "objective_value(coffeeModel) = 4902.5\n",
      "value.(x) = 2-dimensional DenseAxisArray{Float64,2,...} with index sets:\n",
      "    Dimension 1, [:Columbian, :Brazilian, :Sumatran]\n",
      "    Dimension 2, [:Robust, :Light]\n",
      "And data, a 3×2 Matrix{Float64}:\n",
      " 323.33333333333337  226.66666666666663\n",
      " 109.99999999999996  339.9999999999999\n",
      " 650.0                 0.0\n"
     ]
    },
    {
     "data": {
      "text/plain": [
       "2-dimensional DenseAxisArray{Float64,2,...} with index sets:\n",
       "    Dimension 1, [:Columbian, :Brazilian, :Sumatran]\n",
       "    Dimension 2, [:Robust, :Light]\n",
       "And data, a 3×2 Matrix{Float64}:\n",
       " 323.333  226.667\n",
       " 110.0    340.0\n",
       " 650.0      0.0"
      ]
     },
     "execution_count": 14,
     "metadata": {},
     "output_type": "execute_result"
    }
   ],
   "source": [
    "print(coffeeModel)\n",
    "optimize!(coffeeModel)\n",
    "@show objective_value(coffeeModel);\n",
    "@show value.(x)"
   ]
  }
 ],
 "metadata": {
  "kernelspec": {
   "display_name": "Julia 1.8.2",
   "language": "julia",
   "name": "julia-1.8"
  },
  "language_info": {
   "file_extension": ".jl",
   "mimetype": "application/julia",
   "name": "julia",
   "version": "1.8.2"
  },
  "orig_nbformat": 4,
  "vscode": {
   "interpreter": {
    "hash": "aee8b7b246df8f9039afb4144a1f6fd8d2ca17a180786b69acc140d282b71a49"
   }
  }
 },
 "nbformat": 4,
 "nbformat_minor": 2
}
